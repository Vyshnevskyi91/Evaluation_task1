{
 "cells": [
  {
   "cell_type": "code",
   "execution_count": 269,
   "id": "50e7d867-e035-49ca-8cdb-8b28b8bca264",
   "metadata": {
    "tags": []
   },
   "outputs": [],
   "source": [
    "import requests\n",
    "import pandas as pd\n",
    "\n",
    "# Replace with your IEX Cloud API token\n",
    "api_token = 'pk_b23ba153ee2045aeb5ca77fe63ab5cb0'\n",
    "\n",
    "# Define the base URL for the IEX Cloud API\n",
    "base_url = 'https://cloud.iexapis.com/stable'\n",
    "\n",
    "# Define the symbol for SPY\n",
    "symbol = 'SPY'\n",
    "\n",
    "# Define the intraday endpoint\n",
    "endpoint = f'/stock/{symbol}/intraday-prices'\n",
    "\n",
    "# Set parameters\n",
    "params = {\n",
    "    'token': api_token,\n",
    "    'chartLast': 150  # Set the output size to 100\n",
    "}\n",
    "\n",
    "# Make the API request\n",
    "response = requests.get(f'{base_url}{endpoint}', params=params)\n",
    "\n",
    "# Check if the request was successful\n",
    "if response.status_code == 200:\n",
    "    data = response.json()\n",
    "    \n",
    "    # Check if data is not empty\n",
    "    if data:\n",
    "        # Convert the data to a DataFrame\n",
    "        df = pd.DataFrame(data)\n",
    "        \n",
    "        # Filter rows with no NaN in open and close columns\n",
    "        df = df.dropna(subset=['open', 'close']).head(100)\n",
    "        \n",
    "        \n",
    "    else:\n",
    "        print(\"No data available for the specified parameters.\")\n",
    "else:\n",
    "    print(f\"Error: {response.status_code}, {response.text}\")"
   ]
  },
  {
   "cell_type": "code",
   "execution_count": 271,
   "id": "f6276c1e-a29c-477f-bcb7-4faa1266e3af",
   "metadata": {
    "tags": []
   },
   "outputs": [],
   "source": [
    "# Filtering columns\n",
    "new_df=df[['label','open','close']]"
   ]
  },
  {
   "cell_type": "code",
   "execution_count": 274,
   "id": "bf5e7706-f2bf-48a0-911e-49c9e10b9735",
   "metadata": {
    "tags": []
   },
   "outputs": [
    {
     "data": {
      "text/plain": [
       "label    0\n",
       "open     0\n",
       "close    0\n",
       "dtype: int64"
      ]
     },
     "execution_count": 274,
     "metadata": {},
     "output_type": "execute_result"
    }
   ],
   "source": [
    "new_df.isna().sum()"
   ]
  },
  {
   "cell_type": "code",
   "execution_count": null,
   "id": "1828329b-72ea-441c-99b6-6994211cb54b",
   "metadata": {},
   "outputs": [],
   "source": []
  }
 ],
 "metadata": {
  "kernelspec": {
   "display_name": "Python 3 (ipykernel)",
   "language": "python",
   "name": "python3"
  },
  "language_info": {
   "codemirror_mode": {
    "name": "ipython",
    "version": 3
   },
   "file_extension": ".py",
   "mimetype": "text/x-python",
   "name": "python",
   "nbconvert_exporter": "python",
   "pygments_lexer": "ipython3",
   "version": "3.11.7"
  }
 },
 "nbformat": 4,
 "nbformat_minor": 5
}
