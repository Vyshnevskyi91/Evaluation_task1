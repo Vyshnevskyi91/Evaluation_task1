{
 "cells": [
  {
   "cell_type": "code",
   "execution_count": 118,
   "id": "ae2f8440-a0b8-491b-887b-4b7a64e5a8b7",
   "metadata": {
    "tags": []
   },
   "outputs": [],
   "source": [
    "import requests\n",
    "import pandas as pd\n",
    "import itertools"
   ]
  },
  {
   "cell_type": "code",
   "execution_count": 120,
   "id": "37e9966a-ae46-4ee7-9aee-1d21385a3e86",
   "metadata": {
    "tags": []
   },
   "outputs": [],
   "source": [
    "# Replace with your IEX Cloud API token\n",
    "api_token = 'pk_b23ba153ee2045aeb5ca77fe63ab5cb0'\n",
    "\n",
    "# Define the base URL for the IEX Cloud API\n",
    "base_url = 'https://cloud.iexapis.com/stable'\n",
    "\n",
    "# Define the symbol for SPY\n",
    "symbol = 'SPY'\n",
    "\n",
    "# Define the date as May 10, 2024\n",
    "yesterday_date = '20240510'\n",
    "\n",
    "# Define the historical endpoint\n",
    "endpoint = f'/stock/{symbol}/chart/date/{yesterday_date}'\n",
    "\n",
    "# Set parameters\n",
    "params = {\n",
    "    'token': api_token,\n",
    "}\n",
    "\n",
    "# Make the API request\n",
    "response = requests.get(f'{base_url}{endpoint}', params=params)\n",
    "\n",
    "# Check if the request was successful\n",
    "if response.status_code == 200:\n",
    "    data = response.json()\n",
    "    \n",
    "    # Check if data is not empty\n",
    "    if data:\n",
    "        # Convert the data to a DataFrame\n",
    "        df = pd.DataFrame(data)\n",
    "    else:\n",
    "        print(\"No data available for yesterday.\")\n",
    "else:\n",
    "    print(f\"Error: {response.status_code}, {response.text}\")"
   ]
  },
  {
   "cell_type": "code",
   "execution_count": 122,
   "id": "1ffa13ed-f1ab-4f7b-87d5-20314915a0e7",
   "metadata": {
    "tags": []
   },
   "outputs": [],
   "source": [
    "# Data preparation\n",
    "df=df[['minute','open','close']].dropna(subset=['open', 'close'])\n",
    "\n",
    "# Re-indexing\n",
    "df.index = range(1, len(df) + 1)\n",
    "\n",
    "# Limiting data sample\n",
    "df=df.head(100)"
   ]
  },
  {
   "cell_type": "code",
   "execution_count": 124,
   "id": "b957b2ce-e274-48dd-a734-5c72d03220f0",
   "metadata": {
    "tags": []
   },
   "outputs": [
    {
     "ename": "KeyboardInterrupt",
     "evalue": "",
     "output_type": "error",
     "traceback": [
      "\u001b[0;31m---------------------------------------------------------------------------\u001b[0m",
      "\u001b[0;31mKeyboardInterrupt\u001b[0m                         Traceback (most recent call last)",
      "Cell \u001b[0;32mIn[124], line 19\u001b[0m\n\u001b[1;32m     17\u001b[0m \u001b[38;5;28;01mfor\u001b[39;00m buy_indices \u001b[38;5;129;01min\u001b[39;00m itertools\u001b[38;5;241m.\u001b[39mcombinations(df\u001b[38;5;241m.\u001b[39mindex, \u001b[38;5;241m2\u001b[39m):\n\u001b[1;32m     18\u001b[0m     \u001b[38;5;28;01mfor\u001b[39;00m sell_indices \u001b[38;5;129;01min\u001b[39;00m itertools\u001b[38;5;241m.\u001b[39mcombinations(df\u001b[38;5;241m.\u001b[39mindex, \u001b[38;5;241m2\u001b[39m):\n\u001b[0;32m---> 19\u001b[0m         current_profit \u001b[38;5;241m=\u001b[39m calculate_profit(df, buy_indices, sell_indices)\n\u001b[1;32m     20\u001b[0m         \u001b[38;5;28;01mif\u001b[39;00m current_profit \u001b[38;5;241m>\u001b[39m max_profit:\n\u001b[1;32m     21\u001b[0m             best_strategy \u001b[38;5;241m=\u001b[39m (buy_indices, sell_indices)\n",
      "Cell \u001b[0;32mIn[124], line 6\u001b[0m, in \u001b[0;36mcalculate_profit\u001b[0;34m(df, buy_indices, sell_indices)\u001b[0m\n\u001b[1;32m      4\u001b[0m \u001b[38;5;28;01mfor\u001b[39;00m buy_index \u001b[38;5;129;01min\u001b[39;00m buy_indices:\n\u001b[1;32m      5\u001b[0m     \u001b[38;5;28;01mfor\u001b[39;00m sell_index \u001b[38;5;129;01min\u001b[39;00m sell_indices:\n\u001b[0;32m----> 6\u001b[0m         profit \u001b[38;5;241m+\u001b[39m\u001b[38;5;241m=\u001b[39m df\u001b[38;5;241m.\u001b[39mloc[sell_index][\u001b[38;5;124m'\u001b[39m\u001b[38;5;124mclose\u001b[39m\u001b[38;5;124m'\u001b[39m] \u001b[38;5;241m-\u001b[39m df\u001b[38;5;241m.\u001b[39mloc[buy_index][\u001b[38;5;124m'\u001b[39m\u001b[38;5;124mopen\u001b[39m\u001b[38;5;124m'\u001b[39m]\n\u001b[1;32m      7\u001b[0m \u001b[38;5;28;01mreturn\u001b[39;00m profit\n",
      "File \u001b[0;32m/opt/anaconda3/lib/python3.11/site-packages/pandas/core/series.py:1027\u001b[0m, in \u001b[0;36mSeries.__getitem__\u001b[0;34m(self, key)\u001b[0m\n\u001b[1;32m   1024\u001b[0m \u001b[38;5;28;01mif\u001b[39;00m \u001b[38;5;28misinstance\u001b[39m(key, (\u001b[38;5;28mlist\u001b[39m, \u001b[38;5;28mtuple\u001b[39m)):\n\u001b[1;32m   1025\u001b[0m     key \u001b[38;5;241m=\u001b[39m unpack_1tuple(key)\n\u001b[0;32m-> 1027\u001b[0m \u001b[38;5;28;01mif\u001b[39;00m is_integer(key) \u001b[38;5;129;01mand\u001b[39;00m \u001b[38;5;28mself\u001b[39m\u001b[38;5;241m.\u001b[39mindex\u001b[38;5;241m.\u001b[39m_should_fallback_to_positional:\n\u001b[1;32m   1028\u001b[0m     warnings\u001b[38;5;241m.\u001b[39mwarn(\n\u001b[1;32m   1029\u001b[0m         \u001b[38;5;66;03m# GH#50617\u001b[39;00m\n\u001b[1;32m   1030\u001b[0m         \u001b[38;5;124m\"\u001b[39m\u001b[38;5;124mSeries.__getitem__ treating keys as positions is deprecated. \u001b[39m\u001b[38;5;124m\"\u001b[39m\n\u001b[0;32m   (...)\u001b[0m\n\u001b[1;32m   1035\u001b[0m         stacklevel\u001b[38;5;241m=\u001b[39mfind_stack_level(),\n\u001b[1;32m   1036\u001b[0m     )\n\u001b[1;32m   1037\u001b[0m     \u001b[38;5;28;01mreturn\u001b[39;00m \u001b[38;5;28mself\u001b[39m\u001b[38;5;241m.\u001b[39m_values[key]\n",
      "\u001b[0;31mKeyboardInterrupt\u001b[0m: "
     ]
    }
   ],
   "source": [
    "# Function to calculate profit for a given buying and selling range\n",
    "def calculate_profit(df, buy_indices, sell_indices):\n",
    "    profit = 0\n",
    "    for buy_index in buy_indices:\n",
    "        for sell_index in sell_indices:\n",
    "            profit += df.loc[sell_index]['close'] - df.loc[buy_index]['open']\n",
    "    return profit\n",
    "\n",
    "# Convert 'minute' column to index\n",
    "df.set_index('minute', inplace=True)\n",
    "\n",
    "# Initialize variables to track best strategy and maximum profit\n",
    "best_strategy = []\n",
    "max_profit = float('-inf')\n",
    "\n",
    "# Iterate through all combinations of buying and selling points\n",
    "for buy_indices in itertools.combinations(df.index, 2):\n",
    "    for sell_indices in itertools.combinations(df.index, 2):\n",
    "        current_profit = calculate_profit(df, buy_indices, sell_indices)\n",
    "        if current_profit > max_profit:\n",
    "            best_strategy = (buy_indices, sell_indices)\n",
    "            max_profit = current_profit\n",
    "\n",
    "print(\"Best buy strategy:\", best_strategy)\n",
    "print(\"Maximum profit:\", max_profit)"
   ]
  },
  {
   "cell_type": "code",
   "execution_count": null,
   "id": "7095311f-3da8-4df9-98df-e1256ae71861",
   "metadata": {},
   "outputs": [],
   "source": []
  }
 ],
 "metadata": {
  "kernelspec": {
   "display_name": "Python 3 (ipykernel)",
   "language": "python",
   "name": "python3"
  },
  "language_info": {
   "codemirror_mode": {
    "name": "ipython",
    "version": 3
   },
   "file_extension": ".py",
   "mimetype": "text/x-python",
   "name": "python",
   "nbconvert_exporter": "python",
   "pygments_lexer": "ipython3",
   "version": "3.11.7"
  }
 },
 "nbformat": 4,
 "nbformat_minor": 5
}
