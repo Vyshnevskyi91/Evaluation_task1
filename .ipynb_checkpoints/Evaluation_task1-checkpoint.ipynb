{
 "cells": [
  {
   "cell_type": "code",
   "execution_count": 31,
   "id": "90681b78-d3df-4f1e-a894-02e4164a916c",
   "metadata": {},
   "outputs": [],
   "source": [
    "import requests\n",
    "import pandas as pd\n",
    "import itertools\n",
    "from datetime import datetime, timedelta"
   ]
  },
  {
   "cell_type": "code",
   "execution_count": 32,
   "id": "50e7d867-e035-49ca-8cdb-8b28b8bca264",
   "metadata": {
    "tags": []
   },
   "outputs": [],
   "source": [
    "# Replace with your IEX Cloud API token\n",
    "api_token = 'pk_b23ba153ee2045aeb5ca77fe63ab5cb0'\n",
    "\n",
    "# Define the base URL for the IEX Cloud API\n",
    "base_url = 'https://cloud.iexapis.com/stable'\n",
    "\n",
    "# Define the symbol for SPY\n",
    "symbol = 'SPY'\n",
    "\n",
    "# Calculate yesterday's date\n",
    "yesterday_date = (datetime.now() - timedelta(days=1)).strftime('%Y%m%d')\n",
    "\n",
    "# Define the historical endpoint\n",
    "endpoint = f'/stock/{symbol}/chart/date/{yesterday_date}'\n",
    "\n",
    "# Set parameters\n",
    "params = {\n",
    "    'token': api_token,\n",
    "}\n",
    "\n",
    "# Make the API request\n",
    "response = requests.get(f'{base_url}{endpoint}', params=params)\n",
    "\n",
    "# Check if the request was successful\n",
    "if response.status_code == 200:\n",
    "    data = response.json()\n",
    "    \n",
    "    # Check if data is not empty\n",
    "    if data:\n",
    "        # Convert the data to a DataFrame\n",
    "        df = pd.DataFrame(data)\n",
    "    else:\n",
    "        print(\"No data available for yesterday.\")\n",
    "else:\n",
    "    print(f\"Error: {response.status_code}, {response.text}\")"
   ]
  },
  {
   "cell_type": "code",
   "execution_count": 33,
   "id": "1828329b-72ea-441c-99b6-6994211cb54b",
   "metadata": {},
   "outputs": [],
   "source": [
    "# Data preparation\n",
    "df=df[['minute','open','close']].dropna(subset=['open', 'close'])"
   ]
  },
  {
   "cell_type": "code",
   "execution_count": 34,
   "id": "d9544e96-c616-41e9-a05d-3f3d0b498ee3",
   "metadata": {
    "tags": []
   },
   "outputs": [],
   "source": [
    "# Re-indexing\n",
    "df.index = range(1, len(df) + 1)"
   ]
  },
  {
   "cell_type": "code",
   "execution_count": 35,
   "id": "2cd9972d-8a56-486d-81ca-709e426b27c1",
   "metadata": {
    "tags": []
   },
   "outputs": [],
   "source": [
    "# Limiting data sample\n",
    "df=df.head(100)"
   ]
  },
  {
   "cell_type": "code",
   "execution_count": 36,
   "id": "78967820-df20-4ce8-885b-99b933de8621",
   "metadata": {
    "tags": []
   },
   "outputs": [
    {
     "name": "stdout",
     "output_type": "stream",
     "text": [
      "Best Strategy: ((1, 2), (1, 3), (1, 4), (1, 5), (1, 6), (1, 7), (1, 8), (1, 9), (1, 10), (1, 11))\n",
      "Profit: 4150.129999999986\n"
     ]
    }
   ],
   "source": [
    "# Define a function to calculate profit for a single buy trade\n",
    "def calculate_trade_profit(open_price, close_price):\n",
    "    return close_price - open_price\n",
    "\n",
    "# Define a function to calculate total profit for a strategy consisting of multiple buy trades\n",
    "def calculate_strategy_profit(strategy, prices):\n",
    "    total_profit = 0\n",
    "    for buy_trade in strategy:\n",
    "        open_index, close_index = buy_trade\n",
    "        if open_index < close_index and close_index < len(prices):\n",
    "            open_price = prices[open_index]\n",
    "            close_price = prices[close_index]\n",
    "            total_profit += calculate_trade_profit(open_price, close_price)\n",
    "    return total_profit\n",
    "\n",
    "# Define the prices for each row (replace with actual prices)\n",
    "prices = df['open'].tolist()\n",
    "\n",
    "# Define the possible buy trades\n",
    "num_rows = 100\n",
    "possible_buy_trades = [(open_index, close_index) for open_index in range(1, num_rows) for close_index in range(open_index + 1, num_rows + 1)]\n",
    "\n",
    "# Initialize variables to store the best strategy and its profit\n",
    "best_strategy = None\n",
    "best_profit = float('-inf')\n",
    "\n",
    "# Iterate through all combinations of buy trades\n",
    "for strategy in itertools.combinations(possible_buy_trades, len(possible_buy_trades)):\n",
    "    # Calculate profit for the current strategy\n",
    "    strategy_profit = calculate_strategy_profit(strategy, prices)\n",
    "    \n",
    "    # Update the best strategy if the current strategy has higher profit\n",
    "    if strategy_profit > best_profit:\n",
    "        best_profit = strategy_profit\n",
    "        best_strategy = strategy\n",
    "\n",
    "# Print the best strategy and its profit\n",
    "print(\"Best Strategy:\", best_strategy[:10])\n",
    "print(\"Profit:\", best_profit)"
   ]
  },
  {
   "cell_type": "code",
   "execution_count": null,
   "id": "1f1d0721-9c2b-4d60-abcc-3ccfc59e762b",
   "metadata": {},
   "outputs": [],
   "source": []
  }
 ],
 "metadata": {
  "kernelspec": {
   "display_name": "Python 3 (ipykernel)",
   "language": "python",
   "name": "python3"
  },
  "language_info": {
   "codemirror_mode": {
    "name": "ipython",
    "version": 3
   },
   "file_extension": ".py",
   "mimetype": "text/x-python",
   "name": "python",
   "nbconvert_exporter": "python",
   "pygments_lexer": "ipython3",
   "version": "3.11.7"
  }
 },
 "nbformat": 4,
 "nbformat_minor": 5
}
